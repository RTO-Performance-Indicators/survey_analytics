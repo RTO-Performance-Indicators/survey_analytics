{
 "metadata": {
  "language_info": {
   "codemirror_mode": {
    "name": "ipython",
    "version": 3
   },
   "file_extension": ".py",
   "mimetype": "text/x-python",
   "name": "python",
   "nbconvert_exporter": "python",
   "pygments_lexer": "ipython3",
   "version": "3.7.3-final"
  },
  "orig_nbformat": 2,
  "kernelspec": {
   "name": "python3",
   "display_name": "Python 3",
   "language": "python"
  }
 },
 "nbformat": 4,
 "nbformat_minor": 2,
 "cells": [
  {
   "cell_type": "code",
   "execution_count": 1,
   "metadata": {},
   "outputs": [
    {
     "output_type": "error",
     "ename": "SyntaxError",
     "evalue": "invalid syntax (<ipython-input-1-9e89c1a7dbfa>, line 9)",
     "traceback": [
      "\u001b[1;36m  File \u001b[1;32m\"<ipython-input-1-9e89c1a7dbfa>\"\u001b[1;36m, line \u001b[1;32m9\u001b[0m\n\u001b[1;33m    from .data requests import functions\u001b[0m\n\u001b[1;37m                      ^\u001b[0m\n\u001b[1;31mSyntaxError\u001b[0m\u001b[1;31m:\u001b[0m invalid syntax\n"
     ]
    }
   ],
   "source": [
    "# The idea behind this research project is that,\n",
    "# while we may not ascertain \"good practice\" from survey responses,\n",
    "# we may be able to understand \"bad practice\" from respondents\n",
    "# who were not satisfied with their training.\n",
    "\n",
    "import pandas as pd\n",
    "import numpy as np\n",
    "\n",
    "# from .data requests import functions\n",
    "\n",
    "\n"
   ]
  },
  {
   "cell_type": "code",
   "execution_count": null,
   "metadata": {},
   "outputs": [],
   "source": [
    "data = pd.read_csv('S:/RTOPI/Both Surveys/All Final Datasets/Datasets - 2020/Output/StudentSurveys.csv', encoding = 'iso-8859-1')\n",
    "\n",
    "# What RTOs have poor performance?\n",
    "# (Let's start by measuring Recommend the RTO)\n",
    "\n",
    "groups = ['SurveyYear', 'TOID']\n",
    "measure = ['Measure12']\n",
    "\n",
    "recommend = calc_prop(df = data[data['SurveyYear'] == 'S2020'], group_vars = groups, vars = measure, weighted = False)\n",
    "recommend.sort_values('proportion', ascending = True)\n",
    "\n",
    "toids = recommend.sort_values('proportion', ascending = True)['TOID'][0:10]\n",
    "\n",
    "verbatim = data[(data['SurveyYear'] == 'S2020') & (data['TOID'].isin(toids))][['s_rsn_dc_v', 's_rsn_rc_v', 's_imp_v']]\n",
    "verbatim\n",
    "verbatim.to_csv('poor_performance_m12_verbatim.csv', index = False)"
   ]
  }
 ]
}